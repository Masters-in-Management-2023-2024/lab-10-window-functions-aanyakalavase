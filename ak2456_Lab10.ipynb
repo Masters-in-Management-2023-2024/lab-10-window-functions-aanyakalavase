{
  "cells": [
    {
      "cell_type": "markdown",
      "metadata": {
        "id": "gQY5T1afCgQC"
      },
      "source": [
        "# OPAN5505 Lab 10 Assignment\n",
        "\n",
        "## Background\n",
        "\n",
        "You've been engaged by the Federal Aviation Administration to perform an analysis on \"strike\" data. A \"strike\" refers to when an aircraft and an object within the air (typically wildlife) collide."
      ]
    },
    {
      "cell_type": "markdown",
      "metadata": {
        "id": "f9bCLLD3CgQE"
      },
      "source": [
        "## Prepare your environment\n",
        "\n",
        "You will need the `polars` package for this assignment. We'll also use `datetime` for date handling."
      ]
    },
    {
      "cell_type": "code",
      "execution_count": 8,
      "metadata": {
        "id": "q3no6MuGCgQE"
      },
      "outputs": [],
      "source": [
        "# Import required libraries\n",
        "import polars as pl"
      ]
    },
    {
      "cell_type": "markdown",
      "metadata": {
        "id": "dDq_2bl7CgQF"
      },
      "source": [
        "## Load your dataset\n",
        "\n",
        "Read the `faa_strikes.txt` dataset into Polars. Name the resulting DataFrame `strikes`."
      ]
    },
    {
      "cell_type": "code",
      "execution_count": 9,
      "metadata": {
        "colab": {
          "base_uri": "https://localhost:8080/"
        },
        "id": "ZdCNrISxCgQF",
        "outputId": "b27e56b1-cfb8-429d-ff0a-1646a4a0c6c2"
      },
      "outputs": [
        {
          "output_type": "stream",
          "name": "stdout",
          "text": [
            "shape: (28_298, 25)\n",
            "┌───────────┬───────────┬───────────┬───────────┬───┬───────────┬───────────┬───────────┬──────────┐\n",
            "│ Airport:  ┆ Airport:  ┆ Origin    ┆ Origin    ┆ … ┆ Wildlife: ┆ Wildlife: ┆ Number of ┆ Record   │\n",
            "│ Code      ┆ Name      ┆ State     ┆ State     ┆   ┆ Species   ┆ Species   ┆ Strikes   ┆ ID       │\n",
            "│ ---       ┆ ---       ┆ ---       ┆ Code      ┆   ┆ ---       ┆ ID        ┆ ---       ┆ ---      │\n",
            "│ str       ┆ str       ┆ str       ┆ ---       ┆   ┆ str       ┆ ---       ┆ i64       ┆ i64      │\n",
            "│           ┆           ┆           ┆ str       ┆   ┆           ┆ str       ┆           ┆          │\n",
            "╞═══════════╪═══════════╪═══════════╪═══════════╪═══╪═══════════╪═══════════╪═══════════╪══════════╡\n",
            "│ KAAF      ┆ APALACHIC ┆ Florida   ┆ FL        ┆ … ┆ Domestic  ┆ 1F12      ┆ 1         ┆ 17459    │\n",
            "│           ┆ OLA       ┆           ┆           ┆   ┆ dog       ┆           ┆           ┆          │\n",
            "│           ┆ REGIONAL  ┆           ┆           ┆   ┆           ┆           ┆           ┆          │\n",
            "│           ┆ ARPT      ┆           ┆           ┆   ┆           ┆           ┆           ┆          │\n",
            "│ KAAF      ┆ APALACHIC ┆ Florida   ┆ FL        ┆ … ┆ Herons,   ┆ I1        ┆ 1         ┆ 17114    │\n",
            "│           ┆ OLA       ┆           ┆           ┆   ┆ egrets,   ┆           ┆           ┆          │\n",
            "│           ┆ REGIONAL  ┆           ┆           ┆   ┆ bitterns  ┆           ┆           ┆          │\n",
            "│           ┆ ARPT      ┆           ┆           ┆   ┆           ┆           ┆           ┆          │\n",
            "│ KABE      ┆ LEHIGH    ┆ Pennsylva ┆ PA        ┆ … ┆ American  ┆ K5114     ┆ 1         ┆ 259361   │\n",
            "│           ┆ VALLEY    ┆ nia       ┆           ┆   ┆ kestrel   ┆           ┆           ┆          │\n",
            "│           ┆ INTL      ┆           ┆           ┆   ┆           ┆           ┆           ┆          │\n",
            "│ KABE      ┆ LEHIGH    ┆ Pennsylva ┆ PA        ┆ … ┆ Mourning  ┆ O2205     ┆ 1         ┆ 345167   │\n",
            "│           ┆ VALLEY    ┆ nia       ┆           ┆   ┆ dove      ┆           ┆           ┆          │\n",
            "│           ┆ INTL      ┆           ┆           ┆   ┆           ┆           ┆           ┆          │\n",
            "│ KABE      ┆ LEHIGH    ┆ Pennsylva ┆ PA        ┆ … ┆ Red-taile ┆ K3302     ┆ 1         ┆ 262782   │\n",
            "│           ┆ VALLEY    ┆ nia       ┆           ┆   ┆ d hawk    ┆           ┆           ┆          │\n",
            "│           ┆ INTL      ┆           ┆           ┆   ┆           ┆           ┆           ┆          │\n",
            "│ …         ┆ …         ┆ …         ┆ …         ┆ … ┆ …         ┆ …         ┆ …         ┆ …        │\n",
            "│ KYNG      ┆ YOUNGSTOW ┆ Ohio      ┆ OH        ┆ … ┆ Rusty     ┆ ZT106     ┆ 1         ┆ 15818    │\n",
            "│           ┆ N-WARREN  ┆           ┆           ┆   ┆ blackbird ┆           ┆           ┆          │\n",
            "│           ┆ RGNL ARPT ┆           ┆           ┆   ┆           ┆           ┆           ┆          │\n",
            "│ KYNG      ┆ YOUNGSTOW ┆ Ohio      ┆ OH        ┆ … ┆ Ruddy     ┆ J2140     ┆ 1         ┆ 16759    │\n",
            "│           ┆ N-WARREN  ┆           ┆           ┆   ┆ duck      ┆           ┆           ┆          │\n",
            "│           ┆ RGNL ARPT ┆           ┆           ┆   ┆           ┆           ┆           ┆          │\n",
            "│ KYNG      ┆ YOUNGSTOW ┆ Ohio      ┆ OH        ┆ … ┆ White-cro ┆ ZX309     ┆ 1         ┆ 17575    │\n",
            "│           ┆ N-WARREN  ┆           ┆           ┆   ┆ wned      ┆           ┆           ┆          │\n",
            "│           ┆ RGNL ARPT ┆           ┆           ┆   ┆ sparrow   ┆           ┆           ┆          │\n",
            "│ KYNG      ┆ YOUNGSTOW ┆ Ohio      ┆ OH        ┆ … ┆ Cedar     ┆ ZD102     ┆ 1         ┆ 17262    │\n",
            "│           ┆ N-WARREN  ┆           ┆           ┆   ┆ waxwing   ┆           ┆           ┆          │\n",
            "│           ┆ RGNL ARPT ┆           ┆           ┆   ┆           ┆           ┆           ┆          │\n",
            "│ KZPH      ┆ ZEPHYRHIL ┆ Florida   ┆ FL        ┆ … ┆ New World ┆ K1        ┆ 1         ┆ 203484   │\n",
            "│           ┆ LS        ┆           ┆           ┆   ┆ Vultures  ┆           ┆           ┆          │\n",
            "│           ┆ MUNICIPAL ┆           ┆           ┆   ┆           ┆           ┆           ┆          │\n",
            "│           ┆ ARPT      ┆           ┆           ┆   ┆           ┆           ┆           ┆          │\n",
            "└───────────┴───────────┴───────────┴───────────┴───┴───────────┴───────────┴───────────┴──────────┘\n"
          ]
        }
      ],
      "source": [
        "# Read the faa_strikes.txt data\n",
        "strikes = pl.read_csv( \"https://raw.githubusercontent.com/philhetzel/opan5510-class10/refs/heads/main/data/faa_strikes.txt\", separator=\"\\t\")\n",
        "strikes = strikes.with_columns(pl.col(\"Collision Date and Time\").str.strptime(pl.Datetime))\n",
        "print(strikes)"
      ]
    },
    {
      "cell_type": "markdown",
      "metadata": {
        "id": "Z57ogXRdCgQG"
      },
      "source": [
        "## Question 1: Running total of strikes by day through 2013\n",
        "\n",
        "You are interested in seeing the running total of strikes over time (`Collision Date and Time`) on a daily basis. Using the `strikes` dataframe, create a new column that removes the time information but keeps the date information from the `Collision Date and Time` column (call this new field `date`). Next, aggregate the `Number of Strikes` by day (call this new field `daily_strikes`). Sort the data in ascending order by `date`. Then, create the running total of `daily_strikes` (name the new field `strikes_cumulative`) and filter to only the records **up to and including** the `date` of 2013-12-31. Name the resulting data frame `running_total_strikes`.\n",
        "\n",
        "*Please place a Python code block and code below. The output should be a DataFrame. You must use a window function to receive credit on this question.*"
      ]
    },
    {
      "cell_type": "code",
      "execution_count": 10,
      "metadata": {
        "colab": {
          "base_uri": "https://localhost:8080/",
          "height": 438
        },
        "id": "e_Y1bqMcCgQG",
        "outputId": "93e02e8a-87f6-4eef-e3d0-edafd1dd4c5e"
      },
      "outputs": [
        {
          "output_type": "display_data",
          "data": {
            "text/plain": [
              "shape: (4_776, 3)\n",
              "┌────────────┬───────────────┬────────────────────┐\n",
              "│ date       ┆ daily_strikes ┆ strikes_cumulative │\n",
              "│ ---        ┆ ---           ┆ ---                │\n",
              "│ date       ┆ i64           ┆ i64                │\n",
              "╞════════════╪═══════════════╪════════════════════╡\n",
              "│ 2000-01-02 ┆ 1             ┆ 1                  │\n",
              "│ 2000-01-03 ┆ 2             ┆ 3                  │\n",
              "│ 2000-01-05 ┆ 3             ┆ 6                  │\n",
              "│ 2000-01-06 ┆ 1             ┆ 7                  │\n",
              "│ 2000-01-08 ┆ 4             ┆ 11                 │\n",
              "│ …          ┆ …             ┆ …                  │\n",
              "│ 2013-12-27 ┆ 6             ┆ 24096              │\n",
              "│ 2013-12-28 ┆ 1             ┆ 24097              │\n",
              "│ 2013-12-29 ┆ 2             ┆ 24099              │\n",
              "│ 2013-12-30 ┆ 4             ┆ 24103              │\n",
              "│ 2013-12-31 ┆ 6             ┆ 24109              │\n",
              "└────────────┴───────────────┴────────────────────┘"
            ],
            "text/html": [
              "<div><style>\n",
              ".dataframe > thead > tr,\n",
              ".dataframe > tbody > tr {\n",
              "  text-align: right;\n",
              "  white-space: pre-wrap;\n",
              "}\n",
              "</style>\n",
              "<small>shape: (4_776, 3)</small><table border=\"1\" class=\"dataframe\"><thead><tr><th>date</th><th>daily_strikes</th><th>strikes_cumulative</th></tr><tr><td>date</td><td>i64</td><td>i64</td></tr></thead><tbody><tr><td>2000-01-02</td><td>1</td><td>1</td></tr><tr><td>2000-01-03</td><td>2</td><td>3</td></tr><tr><td>2000-01-05</td><td>3</td><td>6</td></tr><tr><td>2000-01-06</td><td>1</td><td>7</td></tr><tr><td>2000-01-08</td><td>4</td><td>11</td></tr><tr><td>&hellip;</td><td>&hellip;</td><td>&hellip;</td></tr><tr><td>2013-12-27</td><td>6</td><td>24096</td></tr><tr><td>2013-12-28</td><td>1</td><td>24097</td></tr><tr><td>2013-12-29</td><td>2</td><td>24099</td></tr><tr><td>2013-12-30</td><td>4</td><td>24103</td></tr><tr><td>2013-12-31</td><td>6</td><td>24109</td></tr></tbody></table></div>"
            ]
          },
          "metadata": {}
        }
      ],
      "source": [
        "# Your code here\n",
        "running_total_strikes = (\n",
        "    strikes\n",
        "    .with_columns(pl.col(\"Collision Date and Time\").cast(pl.Date).alias(\"date\"))\n",
        "    .group_by(\"date\")\n",
        "    .agg(pl.sum(\"Number of Strikes\").alias(\"daily_strikes\"))\n",
        "    .sort(\"date\")\n",
        "    .with_columns(pl.col(\"daily_strikes\").cum_sum().alias(\"strikes_cumulative\"))\n",
        "    .filter(pl.col(\"date\") <= pl.date(2013, 12, 31))\n",
        ")\n",
        "\n",
        "display(running_total_strikes)"
      ]
    },
    {
      "cell_type": "markdown",
      "metadata": {
        "id": "k8zRgBCGCgQG"
      },
      "source": [
        "## Question 2: States with the third highest financial cost\n",
        "\n",
        "The FAA is interested in the financial cost of strikes for each `Origin State`. Using the `strikes` dataframe: first, sum `Cost: Total $` by `Origin State` (name the resulting column `damage`) then `rank` these states in order of which state had the most financial `damage` (name the new column with rank information, `ranking`). Next, filter to show the row with the third highest `ranking`. Use a window function to answer this question. Name the resulting dataframe `damage_state`.\n",
        "\n",
        "*Please place a Python code block and code below. The output should be a DataFrame. You must use a window function to receive credit on this question.*"
      ]
    },
    {
      "cell_type": "code",
      "execution_count": 11,
      "metadata": {
        "id": "PmxWnRYECgQH",
        "colab": {
          "base_uri": "https://localhost:8080/",
          "height": 128
        },
        "outputId": "77f6426e-f796-48ad-9b9e-405bf1f6a8c2"
      },
      "outputs": [
        {
          "output_type": "display_data",
          "data": {
            "text/plain": [
              "shape: (1, 3)\n",
              "┌──────────────┬──────────┬─────────┐\n",
              "│ Origin State ┆ damage   ┆ ranking │\n",
              "│ ---          ┆ ---      ┆ ---     │\n",
              "│ str          ┆ i64      ┆ f64     │\n",
              "╞══════════════╪══════════╪═════════╡\n",
              "│ California   ┆ 29671432 ┆ 3.0     │\n",
              "└──────────────┴──────────┴─────────┘"
            ],
            "text/html": [
              "<div><style>\n",
              ".dataframe > thead > tr,\n",
              ".dataframe > tbody > tr {\n",
              "  text-align: right;\n",
              "  white-space: pre-wrap;\n",
              "}\n",
              "</style>\n",
              "<small>shape: (1, 3)</small><table border=\"1\" class=\"dataframe\"><thead><tr><th>Origin State</th><th>damage</th><th>ranking</th></tr><tr><td>str</td><td>i64</td><td>f64</td></tr></thead><tbody><tr><td>&quot;California&quot;</td><td>29671432</td><td>3.0</td></tr></tbody></table></div>"
            ]
          },
          "metadata": {}
        }
      ],
      "source": [
        "# Your code here\n",
        "damage_state = (\n",
        "    strikes\n",
        "    .group_by(\"Origin State\")\n",
        "    .agg(pl.sum(\"Cost: Total $\").alias(\"damage\"))\n",
        "    .with_columns(pl.col(\"damage\").rank(descending=True).alias(\"ranking\"))\n",
        "    .filter(pl.col(\"ranking\") == 3)\n",
        ")\n",
        "\n",
        "display(damage_state)"
      ]
    },
    {
      "cell_type": "markdown",
      "metadata": {
        "id": "dFFj7EivCgQH"
      },
      "source": [
        "## Question 3: What are the second costliest Species Groups for each Aircraft Type?\n",
        "\n",
        "The FAA wants to know if some species groups are more dangerous to particular types of aircraft. Using the `strikes` dataframe: first, sum financial damage (`Cost: Total $`) information by `Aircraft: Type` and `Wildlife: Species Group` (name the new field `damage`). Rank the rows within each `Aircraft: Type` based on the greatest amount of `damage`; when performing the ranking function, name the new column `ranking`. Return the rows that represent the `Wildlife: Species Group` values that caused the **second most** financial `damage` to each `Aircraft: Type`. Name the resulting dataframe `type_species`.\n",
        "\n",
        "*Please place a Python code block and code below. The output should be a DataFrame. You must use a ranking function to receive credit on this question.*"
      ]
    },
    {
      "cell_type": "code",
      "execution_count": 12,
      "metadata": {
        "id": "DfKrFFBFCgQI",
        "colab": {
          "base_uri": "https://localhost:8080/",
          "height": 190
        },
        "outputId": "1803d578-23e7-49cf-d80e-ad9693725c7a"
      },
      "outputs": [
        {
          "output_type": "display_data",
          "data": {
            "text/plain": [
              "shape: (3, 4)\n",
              "┌────────────────┬─────────────────────────┬──────────┬─────────┐\n",
              "│ Aircraft: Type ┆ Wildlife: Species Group ┆ damage   ┆ ranking │\n",
              "│ ---            ┆ ---                     ┆ ---      ┆ ---     │\n",
              "│ str            ┆ str                     ┆ i64      ┆ f64     │\n",
              "╞════════════════╪═════════════════════════╪══════════╪═════════╡\n",
              "│ Airplane       ┆ Kites, Hawks, Eagles    ┆ 48989287 ┆ 2.0     │\n",
              "│ Helicopter     ┆ Vultures                ┆ 116748   ┆ 2.0     │\n",
              "│ NA             ┆ Vultures                ┆ 56227    ┆ 2.0     │\n",
              "└────────────────┴─────────────────────────┴──────────┴─────────┘"
            ],
            "text/html": [
              "<div><style>\n",
              ".dataframe > thead > tr,\n",
              ".dataframe > tbody > tr {\n",
              "  text-align: right;\n",
              "  white-space: pre-wrap;\n",
              "}\n",
              "</style>\n",
              "<small>shape: (3, 4)</small><table border=\"1\" class=\"dataframe\"><thead><tr><th>Aircraft: Type</th><th>Wildlife: Species Group</th><th>damage</th><th>ranking</th></tr><tr><td>str</td><td>str</td><td>i64</td><td>f64</td></tr></thead><tbody><tr><td>&quot;Airplane&quot;</td><td>&quot;Kites, Hawks, Eagles&quot;</td><td>48989287</td><td>2.0</td></tr><tr><td>&quot;Helicopter&quot;</td><td>&quot;Vultures&quot;</td><td>116748</td><td>2.0</td></tr><tr><td>&quot;NA&quot;</td><td>&quot;Vultures&quot;</td><td>56227</td><td>2.0</td></tr></tbody></table></div>"
            ]
          },
          "metadata": {}
        }
      ],
      "source": [
        "type_species = (\n",
        "    strikes\n",
        "    .group_by([\"Aircraft: Type\", \"Wildlife: Species Group\"])\n",
        "    .agg(pl.sum(\"Cost: Total $\").alias(\"damage\"))\n",
        "    .with_columns(\n",
        "        pl.col(\"damage\").rank(descending=True).over(\"Aircraft: Type\").alias(\"ranking\")\n",
        "    )\n",
        "    .filter(pl.col(\"ranking\") == 2)\n",
        ")\n",
        "\n",
        "display(type_species)"
      ]
    },
    {
      "cell_type": "markdown",
      "metadata": {
        "id": "M1PADT8fCgQI"
      },
      "source": [
        "## Question 4: Which days had the greatest positive jump in strikes?\n",
        "\n",
        "The FAA wants to investigate which days had the largest increase in strikes from the previous day. Using the `strikes` dataframe: sum the `Number of Strikes` measure by day (note: not by day and time). You can use a similar technique from Question 1 to create a new column from `Collision Date and Time` without time information and with date information (name this column `date`). Next, compute the previous day's strikes using a window function (name the new column `previous_day`), and calculate the difference of strikes between the current day and the previous day (name the new column `delta_strikes`). Sort the resulting data by `delta_strikes` in descending order to find which days had the highest increase of strikes from the previous day. Name the resulting dataframe `greatest_strike_increase`.\n",
        "\n",
        "**Hint:** This code is more involved that other exercises, so I will explicitly name the steps to answer the question.\n",
        "\n",
        "1. Start with the `strikes` data frame\n",
        "2. Create a new column called `date` which removes the time information in the `Collision Date and Time` column\n",
        "3. Sum the `Number of Strikes` by `date`, and name the new column `daily_strikes`\n",
        "4. Sort by the `date` column in ascending order\n",
        "5. Create a new column called `previous_day` to calculate what the `daily_strikes` were in the previous day\n",
        "6. Create a new column called `delta_strikes` which subtracts `previous_day` from `daily_strikes`\n",
        "7. Sort in descending order by `delta_strikes`\n",
        "\n",
        "*Please place a Python code block and code below. The output should be a DataFrame. You must use a window function to receive credit on this question.*"
      ]
    },
    {
      "cell_type": "code",
      "execution_count": 13,
      "metadata": {
        "colab": {
          "base_uri": "https://localhost:8080/",
          "height": 438
        },
        "id": "JHq9AzFHCgQI",
        "outputId": "ff274c98-96c2-4b21-b19f-ce4dbca33dab"
      },
      "outputs": [
        {
          "output_type": "display_data",
          "data": {
            "text/plain": [
              "shape: (5_285, 4)\n",
              "┌────────────┬───────────────┬──────────────┬───────────────┐\n",
              "│ date       ┆ daily_strikes ┆ previous_day ┆ delta_strikes │\n",
              "│ ---        ┆ ---           ┆ ---          ┆ ---           │\n",
              "│ date       ┆ i64           ┆ i64          ┆ i64           │\n",
              "╞════════════╪═══════════════╪══════════════╪═══════════════╡\n",
              "│ 2000-01-02 ┆ 1             ┆ null         ┆ null          │\n",
              "│ 2010-10-29 ┆ 25            ┆ 7            ┆ 18            │\n",
              "│ 2014-08-25 ┆ 25            ┆ 8            ┆ 17            │\n",
              "│ 2012-06-28 ┆ 21            ┆ 5            ┆ 16            │\n",
              "│ 2009-07-07 ┆ 21            ┆ 7            ┆ 14            │\n",
              "│ …          ┆ …             ┆ …            ┆ …             │\n",
              "│ 2012-06-29 ┆ 6             ┆ 21           ┆ -15           │\n",
              "│ 2012-10-14 ┆ 5             ┆ 20           ┆ -15           │\n",
              "│ 2014-08-26 ┆ 10            ┆ 25           ┆ -15           │\n",
              "│ 2014-10-29 ┆ 5             ┆ 24           ┆ -19           │\n",
              "│ 2013-08-20 ┆ 8             ┆ 28           ┆ -20           │\n",
              "└────────────┴───────────────┴──────────────┴───────────────┘"
            ],
            "text/html": [
              "<div><style>\n",
              ".dataframe > thead > tr,\n",
              ".dataframe > tbody > tr {\n",
              "  text-align: right;\n",
              "  white-space: pre-wrap;\n",
              "}\n",
              "</style>\n",
              "<small>shape: (5_285, 4)</small><table border=\"1\" class=\"dataframe\"><thead><tr><th>date</th><th>daily_strikes</th><th>previous_day</th><th>delta_strikes</th></tr><tr><td>date</td><td>i64</td><td>i64</td><td>i64</td></tr></thead><tbody><tr><td>2000-01-02</td><td>1</td><td>null</td><td>null</td></tr><tr><td>2010-10-29</td><td>25</td><td>7</td><td>18</td></tr><tr><td>2014-08-25</td><td>25</td><td>8</td><td>17</td></tr><tr><td>2012-06-28</td><td>21</td><td>5</td><td>16</td></tr><tr><td>2009-07-07</td><td>21</td><td>7</td><td>14</td></tr><tr><td>&hellip;</td><td>&hellip;</td><td>&hellip;</td><td>&hellip;</td></tr><tr><td>2012-06-29</td><td>6</td><td>21</td><td>-15</td></tr><tr><td>2012-10-14</td><td>5</td><td>20</td><td>-15</td></tr><tr><td>2014-08-26</td><td>10</td><td>25</td><td>-15</td></tr><tr><td>2014-10-29</td><td>5</td><td>24</td><td>-19</td></tr><tr><td>2013-08-20</td><td>8</td><td>28</td><td>-20</td></tr></tbody></table></div>"
            ]
          },
          "metadata": {}
        }
      ],
      "source": [
        "# Your code here\n",
        "greatest_strike_increase = (\n",
        "    strikes\n",
        "    .with_columns(pl.col(\"Collision Date and Time\").cast(pl.Date).alias(\"date\"))\n",
        "    .group_by(\"date\")\n",
        "    .agg(pl.sum(\"Number of Strikes\").alias(\"daily_strikes\"))\n",
        "    .sort(\"date\")\n",
        "    .with_columns(\n",
        "        pl.col(\"daily_strikes\").shift(1).alias(\"previous_day\")\n",
        "    )\n",
        "    .with_columns(\n",
        "        (pl.col(\"daily_strikes\") - pl.col(\"previous_day\")).alias(\"delta_strikes\")\n",
        "    )\n",
        "    .sort(\"delta_strikes\", descending=True)\n",
        ")\n",
        "\n",
        "display(greatest_strike_increase)"
      ]
    },
    {
      "cell_type": "markdown",
      "metadata": {
        "id": "XAPrhczUCgQI"
      },
      "source": [
        "## Question 5: Which single day had the greatest increase in strikes for each `Aircraft: Type`?\n",
        "\n",
        "FAA was interested in the exercise from the last question but now wants to determine the largest delta between days for each `Aircraft: Type`. What are the days that had largest positive change in strikes for each `Aircraft: Type`? In order to answer this question, you will need to perform the exercise from Question 4, but this time include a grouping by `Aircraft: Type`. After grouping by `Aircraft: Type`, add a column called `ranking` and use a window function to determine the day with the largest increase in strikes from the previous day. Name the resulting data frame `greatest_strike_increase_type`\n",
        "\n",
        "NOTE: Helicopters are not struck with a high frequency and will not show up in your analysis; this is fine."
      ]
    },
    {
      "cell_type": "code",
      "execution_count": 16,
      "metadata": {
        "id": "_MClBV6XCgQI",
        "colab": {
          "base_uri": "https://localhost:8080/",
          "height": 159
        },
        "outputId": "5c072f1f-4625-4553-a02e-29792cb0c85b"
      },
      "outputs": [
        {
          "output_type": "display_data",
          "data": {
            "text/plain": [
              "shape: (2, 6)\n",
              "┌────────────────┬────────────┬───────────────┬──────────────┬───────────────┬─────────┐\n",
              "│ Aircraft: Type ┆ date       ┆ daily_strikes ┆ previous_day ┆ delta_strikes ┆ ranking │\n",
              "│ ---            ┆ ---        ┆ ---           ┆ ---          ┆ ---           ┆ ---     │\n",
              "│ str            ┆ date       ┆ i64           ┆ i64          ┆ i64           ┆ f64     │\n",
              "╞════════════════╪════════════╪═══════════════╪══════════════╪═══════════════╪═════════╡\n",
              "│ Airplane       ┆ 2014-08-25 ┆ 25            ┆ 8            ┆ 17            ┆ 1.0     │\n",
              "│ NA             ┆ 2014-08-04 ┆ 5             ┆ 1            ┆ 4             ┆ 1.0     │\n",
              "└────────────────┴────────────┴───────────────┴──────────────┴───────────────┴─────────┘"
            ],
            "text/html": [
              "<div><style>\n",
              ".dataframe > thead > tr,\n",
              ".dataframe > tbody > tr {\n",
              "  text-align: right;\n",
              "  white-space: pre-wrap;\n",
              "}\n",
              "</style>\n",
              "<small>shape: (2, 6)</small><table border=\"1\" class=\"dataframe\"><thead><tr><th>Aircraft: Type</th><th>date</th><th>daily_strikes</th><th>previous_day</th><th>delta_strikes</th><th>ranking</th></tr><tr><td>str</td><td>date</td><td>i64</td><td>i64</td><td>i64</td><td>f64</td></tr></thead><tbody><tr><td>&quot;Airplane&quot;</td><td>2014-08-25</td><td>25</td><td>8</td><td>17</td><td>1.0</td></tr><tr><td>&quot;NA&quot;</td><td>2014-08-04</td><td>5</td><td>1</td><td>4</td><td>1.0</td></tr></tbody></table></div>"
            ]
          },
          "metadata": {}
        }
      ],
      "source": [
        "greatest_strike_increase_type = (\n",
        "    strikes\n",
        "    .with_columns(pl.col(\"Collision Date and Time\").cast(pl.Date).alias(\"date\"))\n",
        "    .group_by([\"Aircraft: Type\", \"date\"])\n",
        "    .agg(pl.sum(\"Number of Strikes\").alias(\"daily_strikes\"))\n",
        "    .sort(\"date\")\n",
        "    .with_columns(\n",
        "        pl.col(\"daily_strikes\").shift(1).over(\"Aircraft: Type\").alias(\"previous_day\")\n",
        "    )\n",
        "    .with_columns(\n",
        "        (pl.col(\"daily_strikes\") - pl.col(\"previous_day\")).alias(\"delta_strikes\")\n",
        "    )\n",
        "    .with_columns(\n",
        "        pl.col(\"delta_strikes\").rank(descending=True).over(\"Aircraft: Type\").alias(\"ranking\")\n",
        "    )\n",
        "    .filter(pl.col(\"ranking\") == 1)\n",
        "    .sort([\"Aircraft: Type\", \"delta_strikes\"], descending=[False, True])\n",
        "\n",
        ")\n",
        "\n",
        "display(greatest_strike_increase_type)"
      ]
    }
  ],
  "metadata": {
    "kernelspec": {
      "display_name": "Python 3",
      "language": "python",
      "name": "python3"
    },
    "language_info": {
      "codemirror_mode": {
        "name": "ipython",
        "version": 3
      },
      "file_extension": ".py",
      "mimetype": "text/x-python",
      "name": "python",
      "nbconvert_exporter": "python",
      "pygments_lexer": "ipython3",
      "version": "3.8.0"
    },
    "colab": {
      "provenance": []
    }
  },
  "nbformat": 4,
  "nbformat_minor": 0
}